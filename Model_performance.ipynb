{
 "cells": [
  {
   "cell_type": "markdown",
   "metadata": {},
   "source": [
    "# Predicting House Prices with Regression using TensorFlow"
   ]
  },
  {
   "cell_type": "markdown",
   "metadata": {},
   "source": [
    "# Task 1: Introduction\n",
    "\n",
    "---\n",
    "\n",
    "For this project, I am going to work on evaluating price of houses given the following features:\n",
    "\n",
    "1. Year of sale of the house\n",
    "2. The age of the house at the time of sale\n",
    "3. Distance from city center\n",
    "4. Number of stores in the locality\n",
    "5. The latitude\n",
    "6. The longitude\n",
    "\n",
    "\n",
    "I use the following packages: `tensorflow`, `pandas`, `matplotlib`, `scikit-learn`."
   ]
  },
  {
   "cell_type": "markdown",
   "metadata": {},
   "source": [
    "## 1.1: Importing Libraries & Helper Functions"
   ]
  },
  {
   "cell_type": "code",
   "execution_count": 70,
   "metadata": {},
   "outputs": [],
   "source": [
    "import pandas as pd\n",
    "import matplotlib.pyplot as plt\n",
    "import tensorflow as tf\n",
    "\n",
    "from utils import *\n",
    "from sklearn.model_selection import train_test_split\n",
    "from tensorflow.keras.models import Sequential\n",
    "from tensorflow.keras.layers import Dense, Dropout\n",
    "from tensorflow.keras.callbacks import EarlyStopping, LambdaCallback"
   ]
  },
  {
   "cell_type": "markdown",
   "metadata": {},
   "source": [
    "# Task 2: Importing the Data"
   ]
  },
  {
   "cell_type": "code",
   "execution_count": 71,
   "metadata": {},
   "outputs": [
    {
     "data": {
      "text/html": [
       "<div>\n",
       "<style scoped>\n",
       "    .dataframe tbody tr th:only-of-type {\n",
       "        vertical-align: middle;\n",
       "    }\n",
       "\n",
       "    .dataframe tbody tr th {\n",
       "        vertical-align: top;\n",
       "    }\n",
       "\n",
       "    .dataframe thead th {\n",
       "        text-align: right;\n",
       "    }\n",
       "</style>\n",
       "<table border=\"1\" class=\"dataframe\">\n",
       "  <thead>\n",
       "    <tr style=\"text-align: right;\">\n",
       "      <th></th>\n",
       "      <th>serial</th>\n",
       "      <th>date</th>\n",
       "      <th>age</th>\n",
       "      <th>distance</th>\n",
       "      <th>stores</th>\n",
       "      <th>latitude</th>\n",
       "      <th>longitude</th>\n",
       "      <th>price</th>\n",
       "    </tr>\n",
       "  </thead>\n",
       "  <tbody>\n",
       "    <tr>\n",
       "      <th>0</th>\n",
       "      <td>NaN</td>\n",
       "      <td>84</td>\n",
       "      <td>129</td>\n",
       "      <td>14797</td>\n",
       "      <td>NaN</td>\n",
       "      <td>NaN</td>\n",
       "      <td>NaN</td>\n",
       "      <td>NaN</td>\n",
       "    </tr>\n",
       "    <tr>\n",
       "      <th>1</th>\n",
       "      <td>146.0</td>\n",
       "      <td>2003</td>\n",
       "      <td>30</td>\n",
       "      <td>0</td>\n",
       "      <td>5.0</td>\n",
       "      <td>86.0</td>\n",
       "      <td>120.0</td>\n",
       "      <td>13180.0</td>\n",
       "    </tr>\n",
       "    <tr>\n",
       "      <th>2</th>\n",
       "      <td>147.0</td>\n",
       "      <td>2007</td>\n",
       "      <td>13</td>\n",
       "      <td>10</td>\n",
       "      <td>4.0</td>\n",
       "      <td>81.0</td>\n",
       "      <td>128.0</td>\n",
       "      <td>14107.0</td>\n",
       "    </tr>\n",
       "    <tr>\n",
       "      <th>3</th>\n",
       "      <td>148.0</td>\n",
       "      <td>2018</td>\n",
       "      <td>18</td>\n",
       "      <td>6</td>\n",
       "      <td>5.0</td>\n",
       "      <td>84.0</td>\n",
       "      <td>128.0</td>\n",
       "      <td>13986.0</td>\n",
       "    </tr>\n",
       "    <tr>\n",
       "      <th>4</th>\n",
       "      <td>149.0</td>\n",
       "      <td>2012</td>\n",
       "      <td>7</td>\n",
       "      <td>8</td>\n",
       "      <td>2.0</td>\n",
       "      <td>87.0</td>\n",
       "      <td>127.0</td>\n",
       "      <td>13140.0</td>\n",
       "    </tr>\n",
       "  </tbody>\n",
       "</table>\n",
       "</div>"
      ],
      "text/plain": [
       "   serial  date  age  distance  stores  latitude  longitude    price\n",
       "0     NaN    84  129     14797     NaN       NaN        NaN      NaN\n",
       "1   146.0  2003   30         0     5.0      86.0      120.0  13180.0\n",
       "2   147.0  2007   13        10     4.0      81.0      128.0  14107.0\n",
       "3   148.0  2018   18         6     5.0      84.0      128.0  13986.0\n",
       "4   149.0  2012    7         8     2.0      87.0      127.0  13140.0"
      ]
     },
     "execution_count": 71,
     "metadata": {},
     "output_type": "execute_result"
    }
   ],
   "source": [
    "df = pd.read_csv(\"data.csv\", names = column_names)\n",
    "df.head()"
   ]
  },
  {
   "cell_type": "markdown",
   "metadata": {},
   "source": [
    "## 2.2: Check Missing Data"
   ]
  },
  {
   "cell_type": "code",
   "execution_count": 72,
   "metadata": {},
   "outputs": [
    {
     "name": "stdout",
     "output_type": "stream",
     "text": [
      "serial       1\n",
      "date         0\n",
      "age          0\n",
      "distance     0\n",
      "stores       1\n",
      "latitude     1\n",
      "longitude    1\n",
      "price        1\n",
      "dtype: int64\n"
     ]
    }
   ],
   "source": [
    "# Checking missing values in the dataset\n",
    "print(df.isna().sum())\n",
    "df = df.dropna()"
   ]
  },
  {
   "cell_type": "markdown",
   "metadata": {},
   "source": [
    "Due to the few NaN values, I decided to drop them in order to clean the dataset."
   ]
  },
  {
   "cell_type": "markdown",
   "metadata": {},
   "source": [
    "# Task 3: Data Normalization"
   ]
  },
  {
   "cell_type": "markdown",
   "metadata": {},
   "source": [
    "## 3.1: Data Normalization\n",
    "\n",
    "To make it easier for optimization algorithms to find minimas, I normalize the data before training a model."
   ]
  },
  {
   "cell_type": "code",
   "execution_count": 73,
   "metadata": {},
   "outputs": [
    {
     "data": {
      "text/html": [
       "<div>\n",
       "<style scoped>\n",
       "    .dataframe tbody tr th:only-of-type {\n",
       "        vertical-align: middle;\n",
       "    }\n",
       "\n",
       "    .dataframe tbody tr th {\n",
       "        vertical-align: top;\n",
       "    }\n",
       "\n",
       "    .dataframe thead th {\n",
       "        text-align: right;\n",
       "    }\n",
       "</style>\n",
       "<table border=\"1\" class=\"dataframe\">\n",
       "  <thead>\n",
       "    <tr style=\"text-align: right;\">\n",
       "      <th></th>\n",
       "      <th>date</th>\n",
       "      <th>age</th>\n",
       "      <th>distance</th>\n",
       "      <th>stores</th>\n",
       "      <th>latitude</th>\n",
       "      <th>longitude</th>\n",
       "      <th>price</th>\n",
       "    </tr>\n",
       "  </thead>\n",
       "  <tbody>\n",
       "    <tr>\n",
       "      <th>1</th>\n",
       "      <td>-1.087732</td>\n",
       "      <td>0.969210</td>\n",
       "      <td>-1.549234</td>\n",
       "      <td>0.026587</td>\n",
       "      <td>0.323799</td>\n",
       "      <td>-1.580082</td>\n",
       "      <td>-0.707735</td>\n",
       "    </tr>\n",
       "    <tr>\n",
       "      <th>2</th>\n",
       "      <td>-0.354801</td>\n",
       "      <td>-0.526978</td>\n",
       "      <td>1.574979</td>\n",
       "      <td>-0.291276</td>\n",
       "      <td>-1.257727</td>\n",
       "      <td>0.946904</td>\n",
       "      <td>0.196839</td>\n",
       "    </tr>\n",
       "    <tr>\n",
       "      <th>3</th>\n",
       "      <td>1.660759</td>\n",
       "      <td>-0.086923</td>\n",
       "      <td>0.325294</td>\n",
       "      <td>0.026587</td>\n",
       "      <td>-0.308811</td>\n",
       "      <td>0.946904</td>\n",
       "      <td>0.078766</td>\n",
       "    </tr>\n",
       "    <tr>\n",
       "      <th>4</th>\n",
       "      <td>0.561363</td>\n",
       "      <td>-1.055045</td>\n",
       "      <td>0.950137</td>\n",
       "      <td>-0.927001</td>\n",
       "      <td>0.640104</td>\n",
       "      <td>0.631031</td>\n",
       "      <td>-0.746767</td>\n",
       "    </tr>\n",
       "    <tr>\n",
       "      <th>5</th>\n",
       "      <td>0.561363</td>\n",
       "      <td>0.881198</td>\n",
       "      <td>0.325294</td>\n",
       "      <td>-0.609139</td>\n",
       "      <td>0.640104</td>\n",
       "      <td>0.315157</td>\n",
       "      <td>0.530565</td>\n",
       "    </tr>\n",
       "  </tbody>\n",
       "</table>\n",
       "</div>"
      ],
      "text/plain": [
       "       date       age  distance    stores  latitude  longitude     price\n",
       "1 -1.087732  0.969210 -1.549234  0.026587  0.323799  -1.580082 -0.707735\n",
       "2 -0.354801 -0.526978  1.574979 -0.291276 -1.257727   0.946904  0.196839\n",
       "3  1.660759 -0.086923  0.325294  0.026587 -0.308811   0.946904  0.078766\n",
       "4  0.561363 -1.055045  0.950137 -0.927001  0.640104   0.631031 -0.746767\n",
       "5  0.561363  0.881198  0.325294 -0.609139  0.640104   0.315157  0.530565"
      ]
     },
     "execution_count": 73,
     "metadata": {},
     "output_type": "execute_result"
    }
   ],
   "source": [
    "df = df.iloc[:, 1:]\n",
    "df_norm = (df - df.mean())/df.std()\n",
    "df_norm.head()"
   ]
  },
  {
   "cell_type": "markdown",
   "metadata": {},
   "source": [
    "## 3.2: Convert Label Value\n",
    "\n",
    "I convert the predicted values (normalized) back to the original distribution."
   ]
  },
  {
   "cell_type": "code",
   "execution_count": 75,
   "metadata": {},
   "outputs": [],
   "source": [
    "y_mean = df['price'].mean()\n",
    "y_std = df['price'].std()\n",
    "\n",
    "def convert_label_value(pred):\n",
    "    return int(pred * y_std + y_mean)"
   ]
  },
  {
   "cell_type": "markdown",
   "metadata": {},
   "source": [
    "# Task 4: Create Training and Test Sets"
   ]
  },
  {
   "cell_type": "markdown",
   "metadata": {},
   "source": [
    "## 4.1: Select Features"
   ]
  },
  {
   "cell_type": "code",
   "execution_count": 76,
   "metadata": {},
   "outputs": [
    {
     "data": {
      "text/html": [
       "<div>\n",
       "<style scoped>\n",
       "    .dataframe tbody tr th:only-of-type {\n",
       "        vertical-align: middle;\n",
       "    }\n",
       "\n",
       "    .dataframe tbody tr th {\n",
       "        vertical-align: top;\n",
       "    }\n",
       "\n",
       "    .dataframe thead th {\n",
       "        text-align: right;\n",
       "    }\n",
       "</style>\n",
       "<table border=\"1\" class=\"dataframe\">\n",
       "  <thead>\n",
       "    <tr style=\"text-align: right;\">\n",
       "      <th></th>\n",
       "      <th>date</th>\n",
       "      <th>age</th>\n",
       "      <th>distance</th>\n",
       "      <th>stores</th>\n",
       "      <th>latitude</th>\n",
       "      <th>longitude</th>\n",
       "    </tr>\n",
       "  </thead>\n",
       "  <tbody>\n",
       "    <tr>\n",
       "      <th>1</th>\n",
       "      <td>-1.087732</td>\n",
       "      <td>0.969210</td>\n",
       "      <td>-1.549234</td>\n",
       "      <td>0.026587</td>\n",
       "      <td>0.323799</td>\n",
       "      <td>-1.580082</td>\n",
       "    </tr>\n",
       "    <tr>\n",
       "      <th>2</th>\n",
       "      <td>-0.354801</td>\n",
       "      <td>-0.526978</td>\n",
       "      <td>1.574979</td>\n",
       "      <td>-0.291276</td>\n",
       "      <td>-1.257727</td>\n",
       "      <td>0.946904</td>\n",
       "    </tr>\n",
       "    <tr>\n",
       "      <th>3</th>\n",
       "      <td>1.660759</td>\n",
       "      <td>-0.086923</td>\n",
       "      <td>0.325294</td>\n",
       "      <td>0.026587</td>\n",
       "      <td>-0.308811</td>\n",
       "      <td>0.946904</td>\n",
       "    </tr>\n",
       "    <tr>\n",
       "      <th>4</th>\n",
       "      <td>0.561363</td>\n",
       "      <td>-1.055045</td>\n",
       "      <td>0.950137</td>\n",
       "      <td>-0.927001</td>\n",
       "      <td>0.640104</td>\n",
       "      <td>0.631031</td>\n",
       "    </tr>\n",
       "    <tr>\n",
       "      <th>5</th>\n",
       "      <td>0.561363</td>\n",
       "      <td>0.881198</td>\n",
       "      <td>0.325294</td>\n",
       "      <td>-0.609139</td>\n",
       "      <td>0.640104</td>\n",
       "      <td>0.315157</td>\n",
       "    </tr>\n",
       "  </tbody>\n",
       "</table>\n",
       "</div>"
      ],
      "text/plain": [
       "       date       age  distance    stores  latitude  longitude\n",
       "1 -1.087732  0.969210 -1.549234  0.026587  0.323799  -1.580082\n",
       "2 -0.354801 -0.526978  1.574979 -0.291276 -1.257727   0.946904\n",
       "3  1.660759 -0.086923  0.325294  0.026587 -0.308811   0.946904\n",
       "4  0.561363 -1.055045  0.950137 -0.927001  0.640104   0.631031\n",
       "5  0.561363  0.881198  0.325294 -0.609139  0.640104   0.315157"
      ]
     },
     "execution_count": 76,
     "metadata": {},
     "output_type": "execute_result"
    }
   ],
   "source": [
    "# Removing 'price' column from the features\n",
    "x = df_norm.iloc[:, :6]\n",
    "x.head()"
   ]
  },
  {
   "cell_type": "markdown",
   "metadata": {},
   "source": [
    "## 4.2: Select Labels"
   ]
  },
  {
   "cell_type": "code",
   "execution_count": 77,
   "metadata": {},
   "outputs": [
    {
     "data": {
      "text/plain": [
       "1   -0.707735\n",
       "2    0.196839\n",
       "3    0.078766\n",
       "4   -0.746767\n",
       "5    0.530565\n",
       "Name: price, dtype: float64"
      ]
     },
     "execution_count": 77,
     "metadata": {},
     "output_type": "execute_result"
    }
   ],
   "source": [
    "# Removing all the columns except 'price' (label)\n",
    "y = df_norm.iloc[:, -1]\n",
    "y.head()"
   ]
  },
  {
   "cell_type": "markdown",
   "metadata": {},
   "source": [
    "## 4.3: Feature and Label Values"
   ]
  },
  {
   "cell_type": "code",
   "execution_count": 78,
   "metadata": {},
   "outputs": [
    {
     "name": "stdout",
     "output_type": "stream",
     "text": [
      "features array shape: (4854, 6)\n",
      "labels array shape: (4854,)\n"
     ]
    }
   ],
   "source": [
    "x_arr = x.values\n",
    "y_arr = y.values\n",
    "\n",
    "print('features array shape:', x_arr.shape)\n",
    "print('labels array shape:', y_arr.shape)"
   ]
  },
  {
   "cell_type": "markdown",
   "metadata": {},
   "source": [
    "## 4.4: Train and Test Split"
   ]
  },
  {
   "cell_type": "code",
   "execution_count": 58,
   "metadata": {},
   "outputs": [
    {
     "name": "stdout",
     "output_type": "stream",
     "text": [
      "Training set: (4611, 6) (4611,)\n",
      "Test set: (243, 6) (243,)\n"
     ]
    }
   ],
   "source": [
    "# The proportion of the df to include in the test split is 0.05\n",
    "# 'random_state' => random number generator seeded\n",
    "x_train, x_test, y_train, y_test = train_test_split(x_arr, y_arr, test_size = 0.05,\n",
    "                                                   random_state = 0)\n",
    "\n",
    "print('Training set:', x_train.shape, y_train.shape)\n",
    "print('Test set:', x_test.shape, y_test.shape)"
   ]
  },
  {
   "cell_type": "markdown",
   "metadata": {},
   "source": [
    "# Task 5: Create the Model"
   ]
  },
  {
   "cell_type": "markdown",
   "metadata": {},
   "source": [
    "## 5.1: Create the Model"
   ]
  },
  {
   "cell_type": "code",
   "execution_count": 59,
   "metadata": {},
   "outputs": [
    {
     "name": "stdout",
     "output_type": "stream",
     "text": [
      "Model: \"sequential_6\"\n",
      "_________________________________________________________________\n",
      " Layer (type)                Output Shape              Param #   \n",
      "=================================================================\n",
      " dense_24 (Dense)            (None, 10)                70        \n",
      "                                                                 \n",
      " dense_25 (Dense)            (None, 20)                220       \n",
      "                                                                 \n",
      " dense_26 (Dense)            (None, 5)                 105       \n",
      "                                                                 \n",
      " dense_27 (Dense)            (None, 1)                 6         \n",
      "                                                                 \n",
      "=================================================================\n",
      "Total params: 401\n",
      "Trainable params: 401\n",
      "Non-trainable params: 0\n",
      "_________________________________________________________________\n"
     ]
    }
   ],
   "source": [
    "def get_model():\n",
    "    \"\"\"\n",
    "    The function returns an untrained model. \n",
    "    \"\"\"\n",
    "    model = Sequential([\n",
    "        Dense(10, input_shape = (6,), activation = 'relu'),\n",
    "        Dense(20, activation = 'relu'),\n",
    "        Dense(5, activation = 'relu'),\n",
    "        Dense(1)\n",
    "    ])\n",
    "    model.compile(loss = 'mse', optimizer= 'adam')\n",
    "    return model\n",
    "\n",
    "get_model().summary()"
   ]
  },
  {
   "cell_type": "markdown",
   "metadata": {},
   "source": [
    "The Sequential model is used due to each layer has exactly one input tensor and one output tensor."
   ]
  },
  {
   "cell_type": "markdown",
   "metadata": {},
   "source": [
    "# Task 6: Model Training"
   ]
  },
  {
   "cell_type": "markdown",
   "metadata": {},
   "source": [
    "## 6.1: Model Training"
   ]
  },
  {
   "cell_type": "code",
   "execution_count": 60,
   "metadata": {},
   "outputs": [
    {
     "name": "stdout",
     "output_type": "stream",
     "text": [
      "Epoch 1/100\n",
      "145/145 [==============================] - 2s 6ms/step - loss: 0.9654 - val_loss: 0.5579\n",
      "Epoch 2/100\n",
      "145/145 [==============================] - 1s 5ms/step - loss: 0.5563 - val_loss: 0.4339\n",
      "Epoch 3/100\n",
      "145/145 [==============================] - 1s 5ms/step - loss: 0.4562 - val_loss: 0.3669\n",
      "Epoch 4/100\n",
      "145/145 [==============================] - 1s 5ms/step - loss: 0.3977 - val_loss: 0.3186\n",
      "Epoch 5/100\n",
      "145/145 [==============================] - 1s 4ms/step - loss: 0.3540 - val_loss: 0.2864\n",
      "Epoch 6/100\n",
      "145/145 [==============================] - 1s 5ms/step - loss: 0.3195 - val_loss: 0.2577\n",
      "Epoch 7/100\n",
      "145/145 [==============================] - 1s 5ms/step - loss: 0.2921 - val_loss: 0.2398\n",
      "Epoch 8/100\n",
      "145/145 [==============================] - 1s 6ms/step - loss: 0.2697 - val_loss: 0.2240\n",
      "Epoch 9/100\n",
      "145/145 [==============================] - 1s 6ms/step - loss: 0.2536 - val_loss: 0.2119\n",
      "Epoch 10/100\n",
      "145/145 [==============================] - 1s 5ms/step - loss: 0.2394 - val_loss: 0.2039\n",
      "Epoch 11/100\n",
      "145/145 [==============================] - 1s 5ms/step - loss: 0.2259 - val_loss: 0.1964\n",
      "Epoch 12/100\n",
      "145/145 [==============================] - 1s 5ms/step - loss: 0.2162 - val_loss: 0.1958\n",
      "Epoch 13/100\n",
      "145/145 [==============================] - 1s 5ms/step - loss: 0.2076 - val_loss: 0.1890\n",
      "Epoch 14/100\n",
      "145/145 [==============================] - 1s 5ms/step - loss: 0.2010 - val_loss: 0.1807\n",
      "Epoch 15/100\n",
      "145/145 [==============================] - 1s 4ms/step - loss: 0.1939 - val_loss: 0.1799\n",
      "Epoch 16/100\n",
      "145/145 [==============================] - 1s 5ms/step - loss: 0.1897 - val_loss: 0.1772\n",
      "Epoch 17/100\n",
      "145/145 [==============================] - 1s 5ms/step - loss: 0.1845 - val_loss: 0.1727\n",
      "Epoch 18/100\n",
      "145/145 [==============================] - 1s 8ms/step - loss: 0.1806 - val_loss: 0.1698\n",
      "Epoch 19/100\n",
      "145/145 [==============================] - 1s 6ms/step - loss: 0.1771 - val_loss: 0.1691\n",
      "Epoch 20/100\n",
      "145/145 [==============================] - 1s 5ms/step - loss: 0.1739 - val_loss: 0.1676\n",
      "Epoch 21/100\n",
      "145/145 [==============================] - 1s 4ms/step - loss: 0.1718 - val_loss: 0.1636\n",
      "Epoch 22/100\n",
      "145/145 [==============================] - 1s 5ms/step - loss: 0.1692 - val_loss: 0.1644\n",
      "Epoch 23/100\n",
      "145/145 [==============================] - 1s 5ms/step - loss: 0.1677 - val_loss: 0.1654\n",
      "Epoch 24/100\n",
      "145/145 [==============================] - 1s 5ms/step - loss: 0.1655 - val_loss: 0.1649\n",
      "Epoch 25/100\n",
      "145/145 [==============================] - 1s 5ms/step - loss: 0.1632 - val_loss: 0.1657\n",
      "Epoch 26/100\n",
      "145/145 [==============================] - 1s 5ms/step - loss: 0.1625 - val_loss: 0.1667\n"
     ]
    }
   ],
   "source": [
    "es_cb = EarlyStopping(monitor = 'val_loss', patience = 5)\n",
    "\n",
    "model = get_model()\n",
    "preds_on_untrained = model.predict(x_test)\n",
    "\n",
    "history = model.fit(x_train, y_train,validation_data = (x_test, y_test),epochs = 100,callbacks = [es_cb])"
   ]
  },
  {
   "cell_type": "markdown",
   "metadata": {},
   "source": [
    "## 6.2: Plot Training and Validation Loss\n",
    "\n",
    "Training and validation loss."
   ]
  },
  {
   "cell_type": "code",
   "execution_count": 61,
   "metadata": {},
   "outputs": [
    {
     "data": {
      "image/png": "[encoded data removed]",
      "text/plain": [
       "<Figure size 576x576 with 1 Axes>"
      ]
     },
     "metadata": {
      "needs_background": "light"
     },
     "output_type": "display_data"
    }
   ],
   "source": [
    "plot_loss(history)"
   ]
  },
  {
   "cell_type": "markdown",
   "metadata": {},
   "source": [
    "# Task 7: Predictions"
   ]
  },
  {
   "cell_type": "markdown",
   "metadata": {},
   "source": [
    "## 7.1: Plot Raw Predictions"
   ]
  },
  {
   "cell_type": "code",
   "execution_count": 62,
   "metadata": {},
   "outputs": [
    {
     "data": {
      "image/png": "[encoded data removed]",
      "text/plain": [
       "<Figure size 576x576 with 1 Axes>"
      ]
     },
     "metadata": {
      "needs_background": "light"
     },
     "output_type": "display_data"
    }
   ],
   "source": [
    "preds_on_trained = model.predict(x_test)\n",
    "compare_predictions(preds_on_untrained, preds_on_trained, y_test)"
   ]
  },
  {
   "cell_type": "markdown",
   "metadata": {},
   "source": [
    "## 7.2: Plot Price Predictions"
   ]
  },
  {
   "cell_type": "code",
   "execution_count": 64,
   "metadata": {},
   "outputs": [
    {
     "data": {
      "image/png": "[encoded data removed]",
      "text/plain": [
       "<Figure size 576x576 with 1 Axes>"
      ]
     },
     "metadata": {
      "needs_background": "light"
     },
     "output_type": "display_data"
    }
   ],
   "source": [
    "price_untrained = [convert_label_value(y) for y in preds_on_untrained]\n",
    "price_trained = [convert_label_value(y) for y in preds_on_trained]\n",
    "price_test = [convert_label_value(y) for y in y_test]\n",
    "\n",
    "compare_predictions(price_untrained, price_trained, price_test)"
   ]
  }
 ],
 "metadata": {
  "kernelspec": {
   "display_name": "Python 3 (ipykernel)",
   "language": "python",
   "name": "python3"
  },
  "language_info": {
   "codemirror_mode": {
    "name": "ipython",
    "version": 3
   },
   "file_extension": ".py",
   "mimetype": "text/x-python",
   "name": "python",
   "nbconvert_exporter": "python",
   "pygments_lexer": "ipython3",
   "version": "3.8.8"
  }
 },
 "nbformat": 4,
 "nbformat_minor": 2
}
